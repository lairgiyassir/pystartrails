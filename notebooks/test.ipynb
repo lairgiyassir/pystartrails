{
 "cells": [
  {
   "cell_type": "markdown",
   "metadata": {},
   "source": [
    "# Importing the modules"
   ]
  },
  {
   "cell_type": "code",
   "execution_count": 1,
   "metadata": {},
   "outputs": [],
   "source": [
    "import numpy as np\n",
    "import cv2 as cv \n",
    "import matplotlib as plt\n",
    "import glob"
   ]
  },
  {
   "cell_type": "markdown",
   "metadata": {},
   "source": [
    "# Star Trails"
   ]
  },
  {
   "cell_type": "code",
   "execution_count": 66,
   "metadata": {},
   "outputs": [
    {
     "name": "stdout",
     "output_type": "stream",
     "text": [
      "The autoreload extension is already loaded. To reload it, use:\n",
      "  %reload_ext autoreload\n"
     ]
    }
   ],
   "source": [
    "%load_ext autoreload\n",
    "%autoreload 2\n",
    "\n",
    "import pathlib\n",
    "import os\n",
    "import sys\n",
    "import cv2 as cv\n",
    "import numpy as np \n",
    "\n",
    "sys.path.append(\"..\")\n",
    "from src import TrailsGenerator"
   ]
  },
  {
   "cell_type": "code",
   "execution_count": 67,
   "metadata": {},
   "outputs": [
    {
     "name": "stdout",
     "output_type": "stream",
     "text": [
      "E:\\Projects\\PyStarTrails\n",
      "E:\\Projects\\PyStarTrails\n"
     ]
    }
   ],
   "source": [
    "trails_gen = TrailsGenerator(sequence_repository=\"../data/raw/\", generated_img_extension=\"jpg\", generated_img_name=\"polaris\")"
   ]
  },
  {
   "cell_type": "code",
   "execution_count": 68,
   "metadata": {},
   "outputs": [
    {
     "data": {
      "text/plain": [
       "array([[[ 66,  61,  57],\n",
       "        [ 69,  61,  59],\n",
       "        [ 63,  55,  53],\n",
       "        ...,\n",
       "        [ 73,  68,  64],\n",
       "        [102,  97,  93],\n",
       "        [ 92,  87,  83]],\n",
       "\n",
       "       [[ 64,  59,  56],\n",
       "        [ 69,  61,  59],\n",
       "        [ 64,  56,  53],\n",
       "        ...,\n",
       "        [ 90,  85,  81],\n",
       "        [120, 115, 111],\n",
       "        [120, 115, 111]],\n",
       "\n",
       "       [[ 64,  56,  54],\n",
       "        [ 63,  55,  53],\n",
       "        [ 63,  55,  52],\n",
       "        ...,\n",
       "        [ 58,  52,  48],\n",
       "        [ 68,  63,  59],\n",
       "        [ 79,  71,  68]],\n",
       "\n",
       "       ...,\n",
       "\n",
       "       [[157, 136, 119],\n",
       "        [150, 129, 112],\n",
       "        [150, 129, 110],\n",
       "        ...,\n",
       "        [100,  91,  84],\n",
       "        [106,  97,  90],\n",
       "        [107,  98,  91]],\n",
       "\n",
       "       [[140, 119, 106],\n",
       "        [153, 132, 115],\n",
       "        [150, 129, 112],\n",
       "        ...,\n",
       "        [111, 100,  95],\n",
       "        [ 99,  89,  80],\n",
       "        [106,  97,  92]],\n",
       "\n",
       "       [[140, 122, 108],\n",
       "        [142, 123, 109],\n",
       "        [148, 127, 108],\n",
       "        ...,\n",
       "        [112, 103,  96],\n",
       "        [101,  91,  84],\n",
       "        [100,  91,  84]]], dtype=uint8)"
      ]
     },
     "execution_count": 68,
     "metadata": {},
     "output_type": "execute_result"
    }
   ],
   "source": [
    "trails_gen.generate_trails()"
   ]
  },
  {
   "cell_type": "code",
   "execution_count": null,
   "metadata": {},
   "outputs": [],
   "source": []
  }
 ],
 "metadata": {
  "kernelspec": {
   "display_name": "Python 3.10.4 ('env': venv)",
   "language": "python",
   "name": "python3"
  },
  "language_info": {
   "codemirror_mode": {
    "name": "ipython",
    "version": 3
   },
   "file_extension": ".py",
   "mimetype": "text/x-python",
   "name": "python",
   "nbconvert_exporter": "python",
   "pygments_lexer": "ipython3",
   "version": "3.10.4"
  },
  "orig_nbformat": 4,
  "vscode": {
   "interpreter": {
    "hash": "06a023ef8ff970342eea9a75e704cabbbc079438a78e5d7db5350afab1dc4116"
   }
  }
 },
 "nbformat": 4,
 "nbformat_minor": 2
}
